{
 "metadata": {
  "language_info": {
   "codemirror_mode": {
    "name": "ipython",
    "version": 3
   },
   "file_extension": ".py",
   "mimetype": "text/x-python",
   "name": "python",
   "nbconvert_exporter": "python",
   "pygments_lexer": "ipython3",
   "version": "3.9.2"
  },
  "orig_nbformat": 2,
  "kernelspec": {
   "name": "python392jvsc74a57bd0aee8b7b246df8f9039afb4144a1f6fd8d2ca17a180786b69acc140d282b71a49",
   "display_name": "Python 3.9.2 64-bit"
  },
  "metadata": {
   "interpreter": {
    "hash": "aee8b7b246df8f9039afb4144a1f6fd8d2ca17a180786b69acc140d282b71a49"
   }
  }
 },
 "nbformat": 4,
 "nbformat_minor": 2,
 "cells": [
  {
   "source": [
    "<span style='color:gray'> Author: Glicerio Vergara.</span>\n",
    "\n",
    "*https://www.linkedin.com/in/glicerio-vergara*\n",
    "___\n",
    "# <span style='color:DarkBlue'> Prime factorization of a given number.</span>  \n",
    "___\n",
    "\n",
    "This is my proposed solution for the challenge where given an integer value, a list containing all of its prime factors is returned.\n",
    "\n",
    "For example when calling a function get_prime_factors(360), it should return a list containing the values two, three, three, five and seven. Those are prime numbers and if you multiply them together, the product is 630.\n",
    "\n",
    "Another example would be when passing 13 to the function, the output is a list with just a single value, that prime number 13."
   ],
   "cell_type": "markdown",
   "metadata": {}
  },
  {
   "cell_type": "code",
   "execution_count": 1,
   "metadata": {},
   "outputs": [],
   "source": [
    "def get_prime_factors(N):\n",
    "    ''' \n",
    "    This function uses its numeric value and then returns a sorted dictionary with all of its prime factors\n",
    "    Input: N, should be int\n",
    "    Output: Dictionary with prime factors and amount of times that factor should be multiplied\n",
    "    Example: get_prime_factors(50420) will return {2: 2, 5: 1, 2521: 1}\n",
    "\n",
    "    '''\n",
    "    try:\n",
    "        N=round (N)\n",
    "        if N<1:\n",
    "            return (\"Input must be a positive number\")\n",
    "        elif N==1:\n",
    "            return (\"1\")\n",
    "        else:\n",
    "            results = list()\n",
    "            divisor = 2\n",
    "            while(divisor <= N):\n",
    "                if (N % divisor) == 0:\n",
    "                    results.append(divisor)\n",
    "                    N = N/divisor\n",
    "                    divisor=2\n",
    "                else:\n",
    "                    divisor += 1\n",
    "            results.sort()\n",
    "            print ('')\n",
    "            results = {x:results.count(x) for x in results}\n",
    "            return results\n",
    "    except:\n",
    "        print (\"This is an error message!\")"
   ]
  },
  {
   "cell_type": "code",
   "execution_count": 2,
   "metadata": {},
   "outputs": [
    {
     "output_type": "stream",
     "name": "stdout",
     "text": [
      "\n"
     ]
    },
    {
     "output_type": "execute_result",
     "data": {
      "text/plain": [
       "{2: 2, 5: 1, 2521: 1}"
      ]
     },
     "metadata": {},
     "execution_count": 2
    }
   ],
   "source": [
    "get_prime_factors(50420)"
   ]
  }
 ]
}