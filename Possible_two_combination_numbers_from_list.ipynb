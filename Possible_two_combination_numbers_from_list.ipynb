{
 "metadata": {
  "language_info": {
   "codemirror_mode": {
    "name": "ipython",
    "version": 3
   },
   "file_extension": ".py",
   "mimetype": "text/x-python",
   "name": "python",
   "nbconvert_exporter": "python",
   "pygments_lexer": "ipython3",
   "version": "3.9.2"
  },
  "orig_nbformat": 2,
  "kernelspec": {
   "name": "python392jvsc74a57bd0aee8b7b246df8f9039afb4144a1f6fd8d2ca17a180786b69acc140d282b71a49",
   "display_name": "Python 3.9.2 64-bit"
  },
  "metadata": {
   "interpreter": {
    "hash": "aee8b7b246df8f9039afb4144a1f6fd8d2ca17a180786b69acc140d282b71a49"
   }
  }
 },
 "nbformat": 4,
 "nbformat_minor": 2,
 "cells": [
  {
   "source": [
    "<span style='color:gray'> Author: Glicerio Vergara.</span>\n",
    "\n",
    "*https://www.linkedin.com/in/glicerio-vergara*\n",
    "___\n",
    "# <span style='color:DarkBlue'> Possible two-number combination from a list of integers that adds up to a number.</span>  \n",
    "___\n",
    "\n",
    "This is my proposed solution for the challenge where given a list of numbers and a number K, a function should return whether any two numbers from the list add up to K.\n",
    "\n",
    "For example, given [[10,15,3,7]] and K  of 17, return true since 10 + 7 is 17\n"
   ],
   "cell_type": "markdown",
   "metadata": {}
  },
  {
   "cell_type": "code",
   "execution_count": 1,
   "metadata": {},
   "outputs": [],
   "source": [
    "def Addupto(list,k):\n",
    "    ''' \n",
    "    This function gets a list and an interger and return whether any two numbers from the list add up to K.\n",
    "    Input: list and integer\n",
    "    Returns: Dictionary with possible combinations\n",
    "    Example: Addupto([10,2,5,17,7],17) will return {0: (10, 7)}\n",
    "    '''\n",
    "    results={}\n",
    "    for i in range(0,len(list)):\n",
    "        for j in range(1,len(list)):\n",
    "            if list[i]+list[j] == k:\n",
    "                results[i]=list[i],list[j]\n",
    "    return results"
   ]
  },
  {
   "cell_type": "code",
   "execution_count": 2,
   "metadata": {},
   "outputs": [
    {
     "output_type": "execute_result",
     "data": {
      "text/plain": [
       "{0: (10, 7)}"
      ]
     },
     "metadata": {},
     "execution_count": 2
    }
   ],
   "source": [
    "list=[10,2,5,17,7]\n",
    "k=17\n",
    "Addupto(list,k)"
   ]
  }
 ]
}