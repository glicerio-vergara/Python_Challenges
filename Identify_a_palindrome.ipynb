{
 "metadata": {
  "language_info": {
   "codemirror_mode": {
    "name": "ipython",
    "version": 3
   },
   "file_extension": ".py",
   "mimetype": "text/x-python",
   "name": "python",
   "nbconvert_exporter": "python",
   "pygments_lexer": "ipython3",
   "version": "3.9.2"
  },
  "orig_nbformat": 2,
  "kernelspec": {
   "name": "python392jvsc74a57bd0aee8b7b246df8f9039afb4144a1f6fd8d2ca17a180786b69acc140d282b71a49",
   "display_name": "Python 3.9.2 64-bit"
  },
  "metadata": {
   "interpreter": {
    "hash": "aee8b7b246df8f9039afb4144a1f6fd8d2ca17a180786b69acc140d282b71a49"
   }
  }
 },
 "nbformat": 4,
 "nbformat_minor": 2,
 "cells": [
  {
   "source": [
    "<span style='color:gray'> Author: Glicerio Vergara.</span>\n",
    "\n",
    "*https://www.linkedin.com/in/glicerio-vergara*\n",
    "___\n",
    "# <span style='color:DarkBlue'> Identify a Palindrome.</span>  \n",
    "___\n",
    "\n",
    "This is my proposed solution for the challenge to construct a function where given an string as the input, it returns a boolean [[True, False]] if the string combination of words is the same both ways, ignoring spaces and punctuation symbols between them. \n",
    "\n",
    "For example when calling a funtion ispalindrome(\"race car\"), it should return True since is a combination of two words is the same both ways when ignoring spaces.\n",
    "\n",
    "Another example would be when passing the string \"Go hang a salami, I'm a lasagna hog,\" to the function, it should return True since without the punctuation and spaces, those letters are an entertainingly long palindrome."
   ],
   "cell_type": "markdown",
   "metadata": {}
  },
  {
   "cell_type": "code",
   "execution_count": 1,
   "metadata": {},
   "outputs": [],
   "source": [
    "import re \n",
    "import string"
   ]
  },
  {
   "cell_type": "code",
   "execution_count": 2,
   "metadata": {},
   "outputs": [],
   "source": [
    "def ispalindrome(text):\n",
    "    ''' \n",
    "    This function gets a string of words and returns wheather the string combination of words is the same both ways, ignoring spaces and punctuation symbols between them.\n",
    "    Input: String\n",
    "    Returns: True or False\n",
    "    Example: ispalindrome(\"race car\") will return True\n",
    "    '''\n",
    "    tokens = re.split('\\W+', text)\n",
    "    text = \"\".join([word.lower() for word in tokens if word not in string.punctuation])\n",
    "    txt = str (text)[::-1]\n",
    "    return (text==txt)"
   ]
  },
  {
   "cell_type": "code",
   "execution_count": 6,
   "metadata": {},
   "outputs": [
    {
     "output_type": "execute_result",
     "data": {
      "text/plain": [
       "True"
      ]
     },
     "metadata": {},
     "execution_count": 6
    }
   ],
   "source": [
    "ispalindrome(\"Go hang a salami, I'm a las//agna hog,\")"
   ]
  }
 ]
}