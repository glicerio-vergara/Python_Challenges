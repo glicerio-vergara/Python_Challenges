{
 "metadata": {
  "language_info": {
   "codemirror_mode": {
    "name": "ipython",
    "version": 3
   },
   "file_extension": ".py",
   "mimetype": "text/x-python",
   "name": "python",
   "nbconvert_exporter": "python",
   "pygments_lexer": "ipython3",
   "version": "3.9.2"
  },
  "orig_nbformat": 2,
  "kernelspec": {
   "name": "python392jvsc74a57bd0aee8b7b246df8f9039afb4144a1f6fd8d2ca17a180786b69acc140d282b71a49",
   "display_name": "Python 3.9.2 64-bit"
  },
  "metadata": {
   "interpreter": {
    "hash": "aee8b7b246df8f9039afb4144a1f6fd8d2ca17a180786b69acc140d282b71a49"
   }
  }
 },
 "nbformat": 4,
 "nbformat_minor": 2,
 "cells": [
  {
   "source": [
    "<span style='color:gray'> Author: Glicerio Vergara.</span>\n",
    "\n",
    "*https://www.linkedin.com/in/glicerio-vergara*\n",
    "___\n",
    "# <span style='color:DarkBlue'> Sort a string.</span>  \n",
    "___\n",
    "\n",
    "This is my proposed solution for the challenge to construct a function where given a string that contains one or more words separated by spaces as the input, it returns the string words sorted alphabetically. The function should not be case sensitive. \n",
    "\n",
    "For example when calling a funtion sortstrings(\"banana ORANGE apple\"), it should return apple banana ORANGE.\n",
    "\n",
    "Another example might be passsing the string \"This should be sorted alphabetically\" which in return will output \"alphabetically be should sorted This\""
   ],
   "cell_type": "markdown",
   "metadata": {}
  },
  {
   "cell_type": "code",
   "execution_count": 1,
   "metadata": {},
   "outputs": [],
   "source": [
    "import re \n",
    "def sortstrings(text):\n",
    "    ''' \n",
    "    This function get its input string and then returns a sorted words of the string alphabetically.\n",
    "    Input: String\n",
    "    Output: alphabetically sorted string\n",
    "    Example: sortstrings(\"banana ORANGE apple\") will return \"apple banana ORANGE\"\n",
    "\n",
    "    '''\n",
    "    tokens = re.split('\\W+', text)\n",
    "    tokens.sort(key=str.casefold)\n",
    "    tokens=\" \".join(tokens)\n",
    "    return tokens"
   ]
  },
  {
   "cell_type": "code",
   "execution_count": 2,
   "metadata": {},
   "outputs": [
    {
     "output_type": "execute_result",
     "data": {
      "text/plain": [
       "'alphabetically be should sorted This'"
      ]
     },
     "metadata": {},
     "execution_count": 2
    }
   ],
   "source": [
    "sortstrings(\"This should be sorted alphabetically\")"
   ]
  }
 ]
}