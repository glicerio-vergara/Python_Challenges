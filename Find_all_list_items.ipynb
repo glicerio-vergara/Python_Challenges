{
 "metadata": {
  "language_info": {
   "codemirror_mode": {
    "name": "ipython",
    "version": 3
   },
   "file_extension": ".py",
   "mimetype": "text/x-python",
   "name": "python",
   "nbconvert_exporter": "python",
   "pygments_lexer": "ipython3",
   "version": "3.9.2"
  },
  "orig_nbformat": 2,
  "kernelspec": {
   "name": "python392jvsc74a57bd0aee8b7b246df8f9039afb4144a1f6fd8d2ca17a180786b69acc140d282b71a49",
   "display_name": "Python 3.9.2 64-bit"
  },
  "metadata": {
   "interpreter": {
    "hash": "aee8b7b246df8f9039afb4144a1f6fd8d2ca17a180786b69acc140d282b71a49"
   }
  }
 },
 "nbformat": 4,
 "nbformat_minor": 2,
 "cells": [
  {
   "source": [
    "<span style='color:gray'> Author: Glicerio Vergara.</span>\n",
    "\n",
    "*https://www.linkedin.com/in/glicerio-vergara*\n",
    "___\n",
    "# <span style='color:DarkBlue'> Find all list items.</span>  \n",
    "___\n",
    "\n",
    "This is my proposed solution for the challenge to construct a function that find the indices for all items in a list that are equal to a given value. As an imput, a list or multidimensional lists and the number that it needs to look for are provided. The function will return a list with the position of the number within the list.\n",
    "\n",
    "For example when calling a funtion index_all([[[[1,2,4]],2]][[1,3]],[[1,2,3]]],2), it should return [[[0,0,1]][[0,1]],[[1,1]]]"
   ],
   "cell_type": "markdown",
   "metadata": {}
  },
  {
   "cell_type": "code",
   "execution_count": 1,
   "metadata": {},
   "outputs": [],
   "source": [
    "def index_all(List,n):\n",
    "    ''' \n",
    "    This function get its input list of values and then returns list with the possition of the number specified in the given list.\n",
    "    Input: list of integers\n",
    "    Output: list of integers\n",
    "\n",
    "    Example: \n",
    "    example = [2,[[1, 2, 3], 2, [1, 3]], [1, 2, 3]]\n",
    "    index_all(example, 2) will return [[0], [1, 0, 1], [1, 1], [2, 1]]\n",
    "    '''\n",
    "    result = list()\n",
    "    for i in range(len(List)):\n",
    "        if List[i] == n:\n",
    "            result.append([i])\n",
    "        elif isinstance(List[i], list):\n",
    "            for index in index_all(List[i], n):\n",
    "                result.append([i]+index)\n",
    "    return result"
   ]
  },
  {
   "cell_type": "code",
   "execution_count": 2,
   "metadata": {},
   "outputs": [
    {
     "output_type": "execute_result",
     "data": {
      "text/plain": [
       "[[0], [1, 0, 1], [1, 1], [2, 1]]"
      ]
     },
     "metadata": {},
     "execution_count": 2
    }
   ],
   "source": [
    "example = [2,[[1, 2, 3], 2, [1, 3]], [1, 2, 3]]\n",
    "index_all(example, 2)"
   ]
  }
 ]
}