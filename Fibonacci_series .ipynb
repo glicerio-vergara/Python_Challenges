{
 "metadata": {
  "language_info": {
   "codemirror_mode": {
    "name": "ipython",
    "version": 3
   },
   "file_extension": ".py",
   "mimetype": "text/x-python",
   "name": "python",
   "nbconvert_exporter": "python",
   "pygments_lexer": "ipython3",
   "version": "3.9.2"
  },
  "orig_nbformat": 2,
  "kernelspec": {
   "name": "python392jvsc74a57bd0aee8b7b246df8f9039afb4144a1f6fd8d2ca17a180786b69acc140d282b71a49",
   "display_name": "Python 3.9.2 64-bit"
  },
  "metadata": {
   "interpreter": {
    "hash": "aee8b7b246df8f9039afb4144a1f6fd8d2ca17a180786b69acc140d282b71a49"
   }
  }
 },
 "nbformat": 4,
 "nbformat_minor": 2,
 "cells": [
  {
   "source": [
    "<span style='color:gray'> Author: Glicerio Vergara.</span>\n",
    "\n",
    "*https://www.linkedin.com/in/glicerio-vergara*\n",
    "___\n",
    "# <span style='color:DarkBlue'> Fibonacci series.</span>  \n",
    "___\n",
    "\n",
    "This is my proposed solution for the challenge to construct a function where given an integer as the input, it returns the Fibonacci series of numbers up to the input value.\n",
    "The fibonacci series is such that each number is the sum of the two preceding ones, starting from 0 and 1.\n",
    "\n",
    "For example when calling a function Fibonacci(5), it should return a list with numbers [[0,1,1,2,3,5]]"
   ],
   "cell_type": "markdown",
   "metadata": {}
  },
  {
   "cell_type": "code",
   "execution_count": 1,
   "metadata": {},
   "outputs": [],
   "source": [
    "def Fibonacci(n):\n",
    "    ''' \n",
    "    This function gets a integer value and returns the Fibonacci series up to the input number\n",
    "    Input: intern\n",
    "    Returns: list\n",
    "    Example: Fibonacci(165) will return [0, 1, 1, 2, 3, 5, 8, 13, 21, 34, 55, 89, 144]\n",
    "    '''\n",
    "    results=[0]\n",
    "    a,b = 0,1\n",
    "    for i in range(n):\n",
    "        results.append(b)\n",
    "        b,a= a+b,b\n",
    "        if b>n: break\n",
    "    return results"
   ]
  },
  {
   "cell_type": "code",
   "execution_count": 2,
   "metadata": {},
   "outputs": [
    {
     "output_type": "execute_result",
     "data": {
      "text/plain": [
       "[0, 1, 1, 2, 3, 5, 8, 13, 21, 34, 55, 89, 144]"
      ]
     },
     "metadata": {},
     "execution_count": 2
    }
   ],
   "source": [
    "Fibonacci(165)"
   ]
  }
 ]
}